{
 "cells": [
  {
   "cell_type": "code",
   "execution_count": 7,
   "metadata": {},
   "outputs": [],
   "source": [
    "import pandas as pd\n",
    "import numpy as np\n",
    "from sklearn.metrics.pairwise import cosine_similarity"
   ]
  },
  {
   "cell_type": "code",
   "execution_count": 10,
   "metadata": {},
   "outputs": [],
   "source": [
    "projects_df = pd.read_csv('output.csv', sep=',')"
   ]
  },
  {
   "cell_type": "code",
   "execution_count": 11,
   "metadata": {},
   "outputs": [
    {
     "data": {
      "text/html": [
       "<div>\n",
       "<style scoped>\n",
       "    .dataframe tbody tr th:only-of-type {\n",
       "        vertical-align: middle;\n",
       "    }\n",
       "\n",
       "    .dataframe tbody tr th {\n",
       "        vertical-align: top;\n",
       "    }\n",
       "\n",
       "    .dataframe thead th {\n",
       "        text-align: right;\n",
       "    }\n",
       "</style>\n",
       "<table border=\"1\" class=\"dataframe\">\n",
       "  <thead>\n",
       "    <tr style=\"text-align: right;\">\n",
       "      <th></th>\n",
       "      <th>project_id</th>\n",
       "      <th>viewers_website</th>\n",
       "      <th>lovers_website</th>\n",
       "      <th>downloaders_website</th>\n",
       "      <th>sprites_website</th>\n",
       "      <th>scripts_website</th>\n",
       "      <th>blocks</th>\n",
       "      <th>block_types</th>\n",
       "      <th>images</th>\n",
       "      <th>sounds</th>\n",
       "      <th>ugstrings</th>\n",
       "    </tr>\n",
       "  </thead>\n",
       "  <tbody>\n",
       "    <tr>\n",
       "      <th>0</th>\n",
       "      <td>2437817</td>\n",
       "      <td>0.000000</td>\n",
       "      <td>0.010461</td>\n",
       "      <td>0.0</td>\n",
       "      <td>0.001869</td>\n",
       "      <td>0.027235</td>\n",
       "      <td>0.000197</td>\n",
       "      <td>0.016949</td>\n",
       "      <td>0.000111</td>\n",
       "      <td>0.002783</td>\n",
       "      <td>0.008949</td>\n",
       "    </tr>\n",
       "    <tr>\n",
       "      <th>1</th>\n",
       "      <td>2437816</td>\n",
       "      <td>0.000000</td>\n",
       "      <td>0.010439</td>\n",
       "      <td>0.0</td>\n",
       "      <td>0.001544</td>\n",
       "      <td>0.027235</td>\n",
       "      <td>0.000212</td>\n",
       "      <td>0.042373</td>\n",
       "      <td>0.000056</td>\n",
       "      <td>0.002621</td>\n",
       "      <td>0.009175</td>\n",
       "    </tr>\n",
       "    <tr>\n",
       "      <th>2</th>\n",
       "      <td>2437815</td>\n",
       "      <td>0.000000</td>\n",
       "      <td>0.010454</td>\n",
       "      <td>0.0</td>\n",
       "      <td>0.002255</td>\n",
       "      <td>0.027240</td>\n",
       "      <td>0.000217</td>\n",
       "      <td>0.050847</td>\n",
       "      <td>0.000056</td>\n",
       "      <td>0.002621</td>\n",
       "      <td>0.009169</td>\n",
       "    </tr>\n",
       "    <tr>\n",
       "      <th>3</th>\n",
       "      <td>2437814</td>\n",
       "      <td>0.000032</td>\n",
       "      <td>0.010549</td>\n",
       "      <td>0.0</td>\n",
       "      <td>0.001544</td>\n",
       "      <td>0.027235</td>\n",
       "      <td>0.000337</td>\n",
       "      <td>0.084746</td>\n",
       "      <td>0.000223</td>\n",
       "      <td>0.002702</td>\n",
       "      <td>0.009224</td>\n",
       "    </tr>\n",
       "    <tr>\n",
       "      <th>4</th>\n",
       "      <td>2437813</td>\n",
       "      <td>0.000000</td>\n",
       "      <td>0.010642</td>\n",
       "      <td>0.0</td>\n",
       "      <td>0.003496</td>\n",
       "      <td>0.027332</td>\n",
       "      <td>0.000562</td>\n",
       "      <td>0.194915</td>\n",
       "      <td>0.000501</td>\n",
       "      <td>0.002621</td>\n",
       "      <td>0.009202</td>\n",
       "    </tr>\n",
       "  </tbody>\n",
       "</table>\n",
       "</div>"
      ],
      "text/plain": [
       "   project_id  viewers_website  lovers_website  downloaders_website  \\\n",
       "0     2437817         0.000000        0.010461                  0.0   \n",
       "1     2437816         0.000000        0.010439                  0.0   \n",
       "2     2437815         0.000000        0.010454                  0.0   \n",
       "3     2437814         0.000032        0.010549                  0.0   \n",
       "4     2437813         0.000000        0.010642                  0.0   \n",
       "\n",
       "   sprites_website  scripts_website    blocks  block_types    images  \\\n",
       "0         0.001869         0.027235  0.000197     0.016949  0.000111   \n",
       "1         0.001544         0.027235  0.000212     0.042373  0.000056   \n",
       "2         0.002255         0.027240  0.000217     0.050847  0.000056   \n",
       "3         0.001544         0.027235  0.000337     0.084746  0.000223   \n",
       "4         0.003496         0.027332  0.000562     0.194915  0.000501   \n",
       "\n",
       "     sounds  ugstrings  \n",
       "0  0.002783   0.008949  \n",
       "1  0.002621   0.009175  \n",
       "2  0.002621   0.009169  \n",
       "3  0.002702   0.009224  \n",
       "4  0.002621   0.009202  "
      ]
     },
     "execution_count": 11,
     "metadata": {},
     "output_type": "execute_result"
    }
   ],
   "source": [
    "projects_df.head()"
   ]
  },
  {
   "cell_type": "code",
   "execution_count": 21,
   "metadata": {},
   "outputs": [
    {
     "data": {
      "text/plain": [
       "['viewers_website',\n",
       " 'lovers_website',\n",
       " 'downloaders_website',\n",
       " 'sprites_website',\n",
       " 'scripts_website',\n",
       " 'blocks',\n",
       " 'block_types',\n",
       " 'images',\n",
       " 'sounds',\n",
       " 'ugstrings']"
      ]
     },
     "execution_count": 21,
     "metadata": {},
     "output_type": "execute_result"
    }
   ],
   "source": [
    "a=list(projects_df.columns)\n"
   ]
  },
  {
   "cell_type": "code",
   "execution_count": 22,
   "metadata": {},
   "outputs": [],
   "source": [
    "newfile=projects_df[a[1:11]]"
   ]
  },
  {
   "cell_type": "code",
   "execution_count": 23,
   "metadata": {},
   "outputs": [
    {
     "data": {
      "text/html": [
       "<div>\n",
       "<style scoped>\n",
       "    .dataframe tbody tr th:only-of-type {\n",
       "        vertical-align: middle;\n",
       "    }\n",
       "\n",
       "    .dataframe tbody tr th {\n",
       "        vertical-align: top;\n",
       "    }\n",
       "\n",
       "    .dataframe thead th {\n",
       "        text-align: right;\n",
       "    }\n",
       "</style>\n",
       "<table border=\"1\" class=\"dataframe\">\n",
       "  <thead>\n",
       "    <tr style=\"text-align: right;\">\n",
       "      <th></th>\n",
       "      <th>viewers_website</th>\n",
       "      <th>lovers_website</th>\n",
       "      <th>downloaders_website</th>\n",
       "      <th>sprites_website</th>\n",
       "      <th>scripts_website</th>\n",
       "      <th>blocks</th>\n",
       "      <th>block_types</th>\n",
       "      <th>images</th>\n",
       "      <th>sounds</th>\n",
       "      <th>ugstrings</th>\n",
       "    </tr>\n",
       "  </thead>\n",
       "  <tbody>\n",
       "    <tr>\n",
       "      <th>0</th>\n",
       "      <td>0.000000</td>\n",
       "      <td>0.010461</td>\n",
       "      <td>0.0</td>\n",
       "      <td>0.001869</td>\n",
       "      <td>0.027235</td>\n",
       "      <td>0.000197</td>\n",
       "      <td>0.016949</td>\n",
       "      <td>0.000111</td>\n",
       "      <td>0.002783</td>\n",
       "      <td>0.008949</td>\n",
       "    </tr>\n",
       "    <tr>\n",
       "      <th>1</th>\n",
       "      <td>0.000000</td>\n",
       "      <td>0.010439</td>\n",
       "      <td>0.0</td>\n",
       "      <td>0.001544</td>\n",
       "      <td>0.027235</td>\n",
       "      <td>0.000212</td>\n",
       "      <td>0.042373</td>\n",
       "      <td>0.000056</td>\n",
       "      <td>0.002621</td>\n",
       "      <td>0.009175</td>\n",
       "    </tr>\n",
       "    <tr>\n",
       "      <th>2</th>\n",
       "      <td>0.000000</td>\n",
       "      <td>0.010454</td>\n",
       "      <td>0.0</td>\n",
       "      <td>0.002255</td>\n",
       "      <td>0.027240</td>\n",
       "      <td>0.000217</td>\n",
       "      <td>0.050847</td>\n",
       "      <td>0.000056</td>\n",
       "      <td>0.002621</td>\n",
       "      <td>0.009169</td>\n",
       "    </tr>\n",
       "    <tr>\n",
       "      <th>3</th>\n",
       "      <td>0.000032</td>\n",
       "      <td>0.010549</td>\n",
       "      <td>0.0</td>\n",
       "      <td>0.001544</td>\n",
       "      <td>0.027235</td>\n",
       "      <td>0.000337</td>\n",
       "      <td>0.084746</td>\n",
       "      <td>0.000223</td>\n",
       "      <td>0.002702</td>\n",
       "      <td>0.009224</td>\n",
       "    </tr>\n",
       "    <tr>\n",
       "      <th>4</th>\n",
       "      <td>0.000000</td>\n",
       "      <td>0.010642</td>\n",
       "      <td>0.0</td>\n",
       "      <td>0.003496</td>\n",
       "      <td>0.027332</td>\n",
       "      <td>0.000562</td>\n",
       "      <td>0.194915</td>\n",
       "      <td>0.000501</td>\n",
       "      <td>0.002621</td>\n",
       "      <td>0.009202</td>\n",
       "    </tr>\n",
       "  </tbody>\n",
       "</table>\n",
       "</div>"
      ],
      "text/plain": [
       "   viewers_website  lovers_website  downloaders_website  sprites_website  \\\n",
       "0         0.000000        0.010461                  0.0         0.001869   \n",
       "1         0.000000        0.010439                  0.0         0.001544   \n",
       "2         0.000000        0.010454                  0.0         0.002255   \n",
       "3         0.000032        0.010549                  0.0         0.001544   \n",
       "4         0.000000        0.010642                  0.0         0.003496   \n",
       "\n",
       "   scripts_website    blocks  block_types    images    sounds  ugstrings  \n",
       "0         0.027235  0.000197     0.016949  0.000111  0.002783   0.008949  \n",
       "1         0.027235  0.000212     0.042373  0.000056  0.002621   0.009175  \n",
       "2         0.027240  0.000217     0.050847  0.000056  0.002621   0.009169  \n",
       "3         0.027235  0.000337     0.084746  0.000223  0.002702   0.009224  \n",
       "4         0.027332  0.000562     0.194915  0.000501  0.002621   0.009202  "
      ]
     },
     "execution_count": 23,
     "metadata": {},
     "output_type": "execute_result"
    }
   ],
   "source": [
    "newfile.head()"
   ]
  },
  {
   "cell_type": "code",
   "execution_count": 25,
   "metadata": {},
   "outputs": [],
   "source": [
    "cosine_similarity?"
   ]
  },
  {
   "cell_type": "code",
   "execution_count": 26,
   "metadata": {},
   "outputs": [],
   "source": [
    "df = pd.DataFrame(np.random.randint(0, 2, (3, 5)))\n"
   ]
  },
  {
   "cell_type": "code",
   "execution_count": 27,
   "metadata": {},
   "outputs": [
    {
     "data": {
      "text/html": [
       "<div>\n",
       "<style scoped>\n",
       "    .dataframe tbody tr th:only-of-type {\n",
       "        vertical-align: middle;\n",
       "    }\n",
       "\n",
       "    .dataframe tbody tr th {\n",
       "        vertical-align: top;\n",
       "    }\n",
       "\n",
       "    .dataframe thead th {\n",
       "        text-align: right;\n",
       "    }\n",
       "</style>\n",
       "<table border=\"1\" class=\"dataframe\">\n",
       "  <thead>\n",
       "    <tr style=\"text-align: right;\">\n",
       "      <th></th>\n",
       "      <th>0</th>\n",
       "      <th>1</th>\n",
       "      <th>2</th>\n",
       "      <th>3</th>\n",
       "      <th>4</th>\n",
       "    </tr>\n",
       "  </thead>\n",
       "  <tbody>\n",
       "    <tr>\n",
       "      <th>0</th>\n",
       "      <td>0</td>\n",
       "      <td>0</td>\n",
       "      <td>1</td>\n",
       "      <td>1</td>\n",
       "      <td>0</td>\n",
       "    </tr>\n",
       "    <tr>\n",
       "      <th>1</th>\n",
       "      <td>0</td>\n",
       "      <td>0</td>\n",
       "      <td>1</td>\n",
       "      <td>0</td>\n",
       "      <td>1</td>\n",
       "    </tr>\n",
       "    <tr>\n",
       "      <th>2</th>\n",
       "      <td>1</td>\n",
       "      <td>0</td>\n",
       "      <td>0</td>\n",
       "      <td>1</td>\n",
       "      <td>1</td>\n",
       "    </tr>\n",
       "  </tbody>\n",
       "</table>\n",
       "</div>"
      ],
      "text/plain": [
       "   0  1  2  3  4\n",
       "0  0  0  1  1  0\n",
       "1  0  0  1  0  1\n",
       "2  1  0  0  1  1"
      ]
     },
     "execution_count": 27,
     "metadata": {},
     "output_type": "execute_result"
    }
   ],
   "source": [
    "df"
   ]
  },
  {
   "cell_type": "code",
   "execution_count": 30,
   "metadata": {},
   "outputs": [
    {
     "ename": "AttributeError",
     "evalue": "'DataFrame' object has no attribute 'reshape'",
     "output_type": "error",
     "traceback": [
      "\u001b[1;31m---------------------------------------------------------------------------\u001b[0m",
      "\u001b[1;31mAttributeError\u001b[0m                            Traceback (most recent call last)",
      "\u001b[1;32m<ipython-input-30-e745b63f7700>\u001b[0m in \u001b[0;36m<module>\u001b[1;34m()\u001b[0m\n\u001b[0;32m      1\u001b[0m \u001b[1;33m\u001b[0m\u001b[0m\n\u001b[1;32m----> 2\u001b[1;33m \u001b[0mcosine_similarity\u001b[0m\u001b[1;33m(\u001b[0m\u001b[0mdf\u001b[0m\u001b[1;33m.\u001b[0m\u001b[0mreshape\u001b[0m\u001b[1;33m(\u001b[0m\u001b[1;33m)\u001b[0m\u001b[1;33m)\u001b[0m\u001b[1;33m\u001b[0m\u001b[0m\n\u001b[0m",
      "\u001b[1;32mC:\\Program Files (x86)\\Microsoft Visual Studio\\Shared\\Anaconda3_64\\lib\\site-packages\\pandas\\core\\generic.py\u001b[0m in \u001b[0;36m__getattr__\u001b[1;34m(self, name)\u001b[0m\n\u001b[0;32m   4370\u001b[0m             \u001b[1;32mif\u001b[0m \u001b[0mself\u001b[0m\u001b[1;33m.\u001b[0m\u001b[0m_info_axis\u001b[0m\u001b[1;33m.\u001b[0m\u001b[0m_can_hold_identifiers_and_holds_name\u001b[0m\u001b[1;33m(\u001b[0m\u001b[0mname\u001b[0m\u001b[1;33m)\u001b[0m\u001b[1;33m:\u001b[0m\u001b[1;33m\u001b[0m\u001b[0m\n\u001b[0;32m   4371\u001b[0m                 \u001b[1;32mreturn\u001b[0m \u001b[0mself\u001b[0m\u001b[1;33m[\u001b[0m\u001b[0mname\u001b[0m\u001b[1;33m]\u001b[0m\u001b[1;33m\u001b[0m\u001b[0m\n\u001b[1;32m-> 4372\u001b[1;33m             \u001b[1;32mreturn\u001b[0m \u001b[0mobject\u001b[0m\u001b[1;33m.\u001b[0m\u001b[0m__getattribute__\u001b[0m\u001b[1;33m(\u001b[0m\u001b[0mself\u001b[0m\u001b[1;33m,\u001b[0m \u001b[0mname\u001b[0m\u001b[1;33m)\u001b[0m\u001b[1;33m\u001b[0m\u001b[0m\n\u001b[0m\u001b[0;32m   4373\u001b[0m \u001b[1;33m\u001b[0m\u001b[0m\n\u001b[0;32m   4374\u001b[0m     \u001b[1;32mdef\u001b[0m \u001b[0m__setattr__\u001b[0m\u001b[1;33m(\u001b[0m\u001b[0mself\u001b[0m\u001b[1;33m,\u001b[0m \u001b[0mname\u001b[0m\u001b[1;33m,\u001b[0m \u001b[0mvalue\u001b[0m\u001b[1;33m)\u001b[0m\u001b[1;33m:\u001b[0m\u001b[1;33m\u001b[0m\u001b[0m\n",
      "\u001b[1;31mAttributeError\u001b[0m: 'DataFrame' object has no attribute 'reshape'"
     ]
    }
   ],
   "source": [
    "\n",
    "cosine_similarity(df).reshape(1,-1)\n"
   ]
  }
 ],
 "metadata": {
  "kernelspec": {
   "display_name": "Python 3",
   "language": "python",
   "name": "python3"
  },
  "language_info": {
   "codemirror_mode": {
    "name": "ipython",
    "version": 3
   },
   "file_extension": ".py",
   "mimetype": "text/x-python",
   "name": "python",
   "nbconvert_exporter": "python",
   "pygments_lexer": "ipython3",
   "version": "3.6.5"
  }
 },
 "nbformat": 4,
 "nbformat_minor": 2
}
